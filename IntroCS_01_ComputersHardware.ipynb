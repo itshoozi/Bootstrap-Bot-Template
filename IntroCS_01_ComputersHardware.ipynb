{
  "nbformat": 4,
  "nbformat_minor": 0,
  "metadata": {
    "colab": {
      "provenance": [],
      "include_colab_link": true
    },
    "kernelspec": {
      "name": "python3",
      "display_name": "Python 3"
    },
    "language_info": {
      "name": "python"
    }
  },
  "cells": [
    {
      "cell_type": "markdown",
      "metadata": {
        "id": "view-in-github",
        "colab_type": "text"
      },
      "source": [
        "<a href=\"https://colab.research.google.com/github/itshoozi/Bootstrap-Bot-Template/blob/master/IntroCS_01_ComputersHardware.ipynb\" target=\"_parent\"><img src=\"https://colab.research.google.com/assets/colab-badge.svg\" alt=\"Open In Colab\"/></a>"
      ]
    },
    {
      "cell_type": "markdown",
      "source": [
        "# Computers and Hardware\n",
        "### Intro to Computer Science | Brendan Shea, PhD (Brendan.Shea@rctc.edu)\n",
        "\n",
        "Welcome to the study of computer science! I'm excited you'll be joining us. These lecture notes are the \"textbook\" for the class, and should contain everything you need for homework and exams. They are always a work in progress, so please let me know if you notice any errors! - Brendan"
      ],
      "metadata": {
        "id": "iSdkrH9S_T2E"
      }
    },
    {
      "cell_type": "markdown",
      "source": [
        "## Introductory Lecture\n",
        "For each chapter, I've prepared an introductory lecture highlighting some of the main points we'll be covering. You can \"run\" the cell to launch the lecture."
      ],
      "metadata": {
        "id": "jU3H5sKTus5i"
      }
    },
    {
      "cell_type": "code",
      "source": [
        "from IPython.display import YouTubeVideo\n",
        "YouTubeVideo('aUoxeBLi0GU', width=800, height=500)"
      ],
      "metadata": {
        "id": "0wkBNwmru8vT",
        "outputId": "8a4d08e4-4932-4824-9f8c-9e4740e76b62",
        "colab": {
          "base_uri": "https://localhost:8080/",
          "height": 522
        }
      },
      "execution_count": null,
      "outputs": [
        {
          "output_type": "execute_result",
          "data": {
            "text/plain": [
              "<IPython.lib.display.YouTubeVideo at 0x7b7e2123eec0>"
            ],
            "text/html": [
              "\n",
              "        <iframe\n",
              "            width=\"800\"\n",
              "            height=\"500\"\n",
              "            src=\"https://www.youtube.com/embed/aUoxeBLi0GU\"\n",
              "            frameborder=\"0\"\n",
              "            allowfullscreen\n",
              "            \n",
              "        ></iframe>\n",
              "        "
            ],
            "image/jpeg": "[encoded data removed]"
          },
          "metadata": {},
          "execution_count": 3
        }
      ]
    },
    {
      "cell_type": "markdown",
      "source": [
        "\n",
        "## What is a Computer?\n",
        "At its most fundamental level, a **computer** is a device that can perform computations. More specifically, it can execute well-defined instructions (or **algorithms**) to manipulate, store, and retrieve data. It's crucial to understand that the term 'computer' applies to much more than the desktop or laptop device you might immediately imagine. In fact, computers come in a vast array of forms and sizes, and they're integrated into many aspects of modern life. Here are a few examples:\n",
        "\n",
        "1.  *Personal Computer (PC):* This is the most common type of computer, which is used by individuals for a range of personal and professional tasks. It is versatile and can be used to write documents, browse the internet, play games, and do much more. Examples include desktop computers and laptops.\n",
        "\n",
        "2.  *Supercomputer:* These are extremely powerful computers used for complex tasks like climate modeling, physical simulations, and cryptanalysis. They are often used by scientific institutions and government agencies. The Summit supercomputer at Oak Ridge National Laboratory in the USA is an example.\n",
        "\n",
        "3.  *Smartphones:* Your smartphone is a powerful computer. It has a CPU, memory, storage, and runs an operating system --- all the key components of a computer. It performs computations every second, from rendering your screen display to running your apps, processing your inputs, and managing communications over wireless networks.\n",
        "\n",
        "4.  *Modern Cars*: Cars, especially those made recently, have several computers. They compute everything from engine timings, cruise control, GPS, music playback, to advanced driving assist features like autopilot.\n",
        "\n",
        "5.  *Game Consoles:* Devices like the PlayStation, Xbox, or Nintendo Switch are specialized computers designed to render graphics and compute game logic. They contain custom CPUs, GPUs, memory, and storage to optimize performance for gaming.\n",
        "\n",
        "All of the exampoles above are examples of \"von Neumann\" machines (more on this later!) that operate under the control of instructions stored in their own memory unit and can accept inputted data, process it arithmetically and logically, produce results, and store the results for future use.\n"
      ],
      "metadata": {
        "id": "Kf3Qefw-JWaM"
      }
    },
    {
      "cell_type": "markdown",
      "source": [
        "### What is Computer Science?\n",
        "**Computer Science** is the study of computers and computational systems. Unlike electrical and computer engineers, computer scientists deal mostly with software and software systems; this includes their theory, design, development, and application.\n",
        "\n",
        "1.  Programming: Writing code to create software is a major part of computer science. Whether it's creating a website, a video game, or a data analysis tool, programming allows us to instruct computers to perform complex tasks. Languages like Python, Java, C++, JavaScript, and many others are tools that help us write these instructions.\n",
        "\n",
        "2.  Algorithms and Data Structures: Computer science students learn to design, analyze, and apply algorithms and data structures. These are fundamental concepts that help us solve complex problems efficiently.\n",
        "\n",
        "3.  Computer Architecture: This involves understanding the design and organization of computers, including CPU design, memory hierarchy, and so much more. It helps to understand how software interacts with hardware to execute programs.\n",
        "\n",
        "4.  Operating Systems: OS is software that manages computer hardware and software resources. Computer science explores how operating systems work, from process and memory management to file systems and I/O handling.\n",
        "\n",
        "5.  Artificial Intelligence (AI): This is a significant field in computer science focusing on creating systems or machines that exhibit human intelligence. This includes machine learning, neural networks, natural language processing, and more.\n",
        "\n",
        "6.  Networking: Computer science explores how computers communicate over the internet, how data is transmitted and received, how network protocols work, and more.\n",
        "\n",
        "7.  Databases: With the increase in data generation, storing, retrieving, and manipulating data efficiently is crucial. Computer science covers how databases work, SQL queries, how to design efficient databases, and more.\n",
        "\n",
        "In your journey through this course, you'll explore many of these areas and learn how broad and exciting the field of computer science can be. Remember, at its core, computer science is about solving problems. The computer is just our tool for making those solutions come to life!"
      ],
      "metadata": {
        "id": "kwNiV0mzKXrt"
      }
    },
    {
      "cell_type": "markdown",
      "source": [
        "## Why Study Computer Science?\n",
        "The knowledge of computer science is immensely powerful, bringing with it a wide range of benefits and opportunities. Let's explore why learning computer science is worth your time and effort.\n",
        "\n",
        "In our modern digital age, technology influences nearly every aspect of our lives. From the smartphones we use to stay connected, the websites and applications we use for work or leisure, to the innovative technologies like artificial intelligence that are shaping our future --- all of these are products of computer science. By studying computer science, you become a creator in this digital world, not just a consumer. You gain the ability to build your own applications, solve unique problems, and even shape technology's future.\n",
        "\n",
        "For example, consider the world of mobile apps. With knowledge of computer science, you could create your own smartphone app to fill a gap in the market, or just for fun. You could design a game, create a productivity tool, or invent a new way for people to socialize digitally.\n",
        "\n",
        "In the realm of practical problem-solving, computer science is also invaluable. Businesses, governments, and organizations worldwide are heavily reliant on data to make informed decisions. With the skills learned in computer science, such as programming, data analysis, machine learning, you could make sense of complex data, unearth trends, and provide valuable insights that guide an organization's decisions.  For instance, you could apply machine learning to vast datasets to predict customer behavior, helping a business better target its marketing efforts. Or you could analyze health data to identify patterns and trends, aiding in medical research or public health policy.\n",
        "\n",
        "Furthermore, computer science drives many of the groundbreaking advancements we see today. Fields like artificial intelligence, quantum computing, and bioinformatics are heavily based on computer science. By diving into computer science, you could be part of the next big technological leap forward.  Imagine working on AI systems that could revolutionize healthcare, making accurate diagnoses faster than ever before. Or you could contribute to the development of quantum algorithms, which might solve problems beyond the reach of current computers.\n",
        "\n",
        "Finally, let's not forget the practical career benefits. Computer science skills are in high demand and are among the most highly paid in the world. Whether in tech companies, finance, healthcare, or virtually any other sector, there's a strong demand for individuals with computer science skills. By learning computer science, you're not just gaining knowledge, you're opening a door to a wide array of career opportunities.\n",
        "\n",
        "So, in a nutshell, studying computer science equips you with versatile skills that you can use to create, innovate, solve complex problems, and even shape the future. It's an exciting field with countless opportunities, so why not dive in and see where it can take you?"
      ],
      "metadata": {
        "id": "B5xQzBM8Lzo7"
      }
    },
    {
      "cell_type": "markdown",
      "source": [
        "## How Can I Speak Binary--the Language of Computers?\n",
        "**Binary**, also known as the binary number system, is a method of representing numbers using only two symbols: 0 and 1. The system is base-2, unlike our commonly used decimal system which is base-10.   In the context of computers, binary is essential because it provides a way to represent different types of data in a form that computers can process.  Here's why:\n",
        "\n",
        "1.  Physical Design and Operation: Computers, at their lowest level, are electronic devices made up of billions of tiny components called **transistors,** which have two states: on and off. Binary's two symbols, 0 and 1, naturally correspond to these two states. Thus, binary allows computers to physically represent and manipulate data.\n",
        "\n",
        "2.  Efficiency: It is easier and more cost-effective to design electronic and digital systems that only need to distinguish between two states.\n",
        "\n",
        "3.  Error Detection and Correction: Binary also plays a crucial role in error detection and correction techniques, helping to maintain data integrity in digital storage and transmission.\n",
        "\n",
        "When you type on your keyboard, click your mouse, or touch your screen, your actions are converted into binary data that the computer can understand. Likewise, the results of computations and the data to be displayed on your screen are stored and transmitted in binary form.  For example, in ASCII, a standard character encoding widely used in computers, the letter 'A' is represented as the binary number 01000001. A JPEG image, an MP3 audio file, or a .docx Word document on your computer - they're all ultimately stored as binary data.\n",
        "\n",
        "Therefore, understanding binary is crucial to understanding how computers work at a fundamental level. All the complex operations that a computer performs, whether it's running an application, browsing the internet, or displaying a video, are ultimately broken down into binary operations that the hardware can execute.\n",
        "\n",
        "Additionally, binary is also essential in certain areas of computer science and information technology, such as networking, where data is transmitted in binary form, or in programming, especially when working close to the hardware level. This could be in fields like embedded systems programming, where understanding binary can often be crucial."
      ],
      "metadata": {
        "id": "D2jLxBuIMUXB"
      }
    },
    {
      "cell_type": "markdown",
      "source": [
        "## How Can I Translate to and From Binary?\n",
        "### Translating Decimal to Binary:\n",
        "\n",
        "To convert a decimal number to binary, you can use the method of successive division by 2. Here are the steps:\n",
        "\n",
        "1.  Divide the decimal number by 2.\n",
        "2.  Record the remainder.\n",
        "3.  Divide the quotient of the previous division by 2.\n",
        "4.  Repeat the process until the quotient is zero.\n",
        "\n",
        "The binary equivalent is obtained by reading the remainders in reverse order (from bottom to top).\n",
        "\n",
        "Example 1: Convert the decimal number 10 to binary.\n",
        "\n",
        "```\n",
        "10 / 2 = 5 Remainder 0 (least significant bit)\n",
        " 5 / 2 = 2 Remainder 1\n",
        " 2 / 2 = 1 Remainder 0\n",
        " 1 / 2 = 0 Remainder 1 (most significant bit)\n",
        "```\n",
        "\n",
        "So, 10 in decimal is 1010 in binary.\n",
        "\n",
        "Example 2: Convert the decimal number 7 to binary.\n",
        "\n",
        "```\n",
        "7 / 2 = 3 Remainder 1 (least significant bit)\n",
        "3 / 2 = 1 Remainder 1\n",
        "1 / 2 = 0 Remainder 1 (most significant bit)\n",
        "```\n",
        "\n",
        "So, 7 in decimal is 111 in binary.\n",
        "\n",
        "### Translating Binary to Decimal:\n",
        "\n",
        "To convert a binary number to decimal, we multiply each bit by 2 raised to the power of its position number, starting from 0 from the rightmost bit (least significant bit), and sum them up.\n",
        "\n",
        "Example 1: Convert the binary number 1101 to decimal.\n",
        "\n",
        "```\n",
        "1*(2^3) + 1*(2^2) + 0*(2^1) + 1*(2^0) = 8 + 4 + 0 + 1 = 13\n",
        "```\n",
        "\n",
        "So, 1101 in binary is 13 in decimal.\n",
        "\n",
        "Example 2: Convert the binary number 1001 to decimal.\n",
        "\n",
        "```\n",
        "1*(2^3) + 0*(2^2) + 0*(2^1) + 1*(2^0) = 8 + 0 + 0 + 1 = 9\n",
        "```\n",
        "\n",
        "So, 1001 in binary is 9 in decimal.\n",
        "\n",
        "Remember, in binary, each digit's place value doubles, as opposed to the decimal system where each place value increases by tenfold. Understanding the translation between these number systems is essential when studying computer science or working in related fields."
      ],
      "metadata": {
        "id": "Ng5EeWr0Nz2P"
      }
    },
    {
      "cell_type": "markdown",
      "source": [
        "## More Numbering Systems !?! Octal and Hexidecimal\n",
        "For all of its theoretical virtues, binary is difficult for humans to write down and understand (with so many 1s and 0s, we make mistakes!). For this reason, computer scientists often express numbers as *octal* or *hexidecimal* numbers:\n",
        "\n",
        "- **Octal (Base-8):** The octal number system uses digits from 0-7. It's sometimes used in computer science because it's relatively straightforward to convert between octal and binary. Every octal digit corresponds exactly to three binary digits. While less commonly used today, it's still seen in certain systems like Unix-style file permissions.\n",
        "\n",
        "- **Hexadecimal (Base-16):** The hexadecimal system uses 16 distinct symbols to represent numbers. The symbols 0-9 represent the values 0-9, and the letters A-F (or a-f) represent the values 10-15. Hexadecimal is commonly used in programming and for memory addressing because it's very compact and easy to convert to and from binary. Each hexadecimal digit represents exactly four binary digits, which makes translation between the two systems simple.\n",
        "\n",
        "\n",
        "| Decimal | Binary | Octal | Hexadecimal |\n",
        "| --- | --- | --- | --- |\n",
        "| 0 | 0000 | 0 | 0 |\n",
        "| 1 | 0001 | 1 | 1 |\n",
        "| 2 | 0010 | 2 | 2 |\n",
        "| 3 | 0011 | 3 | 3 |\n",
        "| 4 | 0100 | 4 | 4 |\n",
        "| 5 | 0101 | 5 | 5 |\n",
        "| 6 | 0110 | 6 | 6 |\n",
        "| 7 | 0111 | 7 | 7 |\n",
        "| 8 | 1000 | 10 | 8 |\n",
        "| 9 | 1001 | 11 | 9 |\n",
        "| 10 | 1010 | 12 | A |\n",
        "| 11 | 1011 | 13 | B |\n",
        "| 12 | 1100 | 14 | C |\n",
        "| 13 | 1101 | 15 | D |\n",
        "| 14 | 1110 | 16 | E |\n",
        "| 15 | 1111 | 17 | F |\n",
        "\n",
        "If you inspect this table, you'll notice that (1) hexidecimal never goes \"beyond\" the digit 7, and (2) hexidecimal using letters A-F to represent digits \"beyond\" 0-9."
      ],
      "metadata": {
        "id": "3llJbfOWPc7q"
      }
    },
    {
      "cell_type": "markdown",
      "source": [
        "## A Simple Program\n",
        "Below, you'll find a simple \"Python\" program that will (1) ask the user to input an integer, and (2) print out the binary, octal, and hexidecimal equivalents. You can hit the \"play\" button (or Ctrl-Enter) to run the \"code\" cells below. Don't worry if you don't understand how this works yet (we'll be learning about this throughout the semester!)."
      ],
      "metadata": {
        "id": "Qix7ab65ROFQ"
      }
    },
    {
      "cell_type": "code",
      "source": [
        "# Run this cell to define a \"function\".\n",
        "# It won't do anything until we \"call\" it below\n",
        "\n",
        "def convert_to_other_bases(number):\n",
        "  \"\"\"Converts a number to binary, octal, and hexadecimal.\n",
        "\n",
        "  Args:\n",
        "    number: The number to convert.\n",
        "\n",
        "  Returns:\n",
        "    A tuple of the number in binary, octal, and hexadecimal.\n",
        "  \"\"\"\n",
        "\n",
        "  binary = bin(number)[2:]\n",
        "  octal = oct(number)[2:]\n",
        "  hexadecimal = hex(number)[2:]\n",
        "\n",
        "  return binary, octal, hexadecimal"
      ],
      "metadata": {
        "id": "dIi0H3I5Ly5K"
      },
      "execution_count": null,
      "outputs": []
    },
    {
      "cell_type": "code",
      "execution_count": null,
      "metadata": {
        "colab": {
          "base_uri": "https://localhost:8080/"
        },
        "id": "wZsAjLkHJQhO",
        "outputId": "b20e6987-a8fd-4add-d5de-e8e7ef44873f"
      },
      "outputs": [
        {
          "output_type": "stream",
          "name": "stdout",
          "text": [
            "Enter a number: 521\n",
            "The number 521 is: \n",
            "In binary: 1000001001 \n",
            "In octal: 1011 \n",
            "In hexadecimal: 209\n"
          ]
        }
      ],
      "source": [
        "# Once we've defined the function, we can use it!\n",
        "number = int(input(\"Enter a number: \"))\n",
        "\n",
        "binary, octal, hexadecimal = convert_to_other_bases(number)\n",
        "\n",
        "print(\"The number {} is: \\n\"\n",
        "        \"In binary: {} \\n\"\n",
        "        \"In octal: {} \\n\"\n",
        "        \"In hexadecimal: {}\".format(number, binary, octal, hexadecimal))"
      ]
    },
    {
      "cell_type": "markdown",
      "source": [
        "### Questions: Computer Basics\n",
        "\n",
        "Please answer the following questions.\n",
        "\n",
        "1.  What motivated you to study computer science? Name a problem or challenge that you hope to address with your knowledge of computer science.\n",
        "\n",
        "2.  What does it mean for a computer to use binary? Why do you think computers use binary instead of decimal? (And why do humans use decimal?)\n",
        "\n",
        "3.  List three different types of computers you interact with on a daily basis. For each, identify the input and output devices and describe their functions. How are they similar to one another? Different from one another?\n"
      ],
      "metadata": {
        "id": "Y0Y5RcWcH2UZ"
      }
    },
    {
      "cell_type": "markdown",
      "source": [
        "## Answrs: Computer Basics\n",
        "\n",
        "1.\n",
        "\n",
        "2.\n",
        "\n",
        "3."
      ],
      "metadata": {
        "id": "feyeZ6i8H7cY"
      }
    },
    {
      "cell_type": "markdown",
      "source": [
        "## What are the Components of Computers?\n",
        "At a high level, a computer system consists of several key components, each performing specific tasks and functions. Here's an overview of these key components:\n",
        "\n",
        "1.  **Central Processing Unit (CPU):** The CPU, often referred to as the brain of the computer, is responsible for interpreting and executing most of the commands from the computer's hardware and software. It has two primary components: the control unit, which directs traffic and the operations of the CPU, and the arithmetic logic unit (ALU), which performs arithmetic and logical operations.\n",
        "\n",
        "2.  Memory: There are two primary types of memory in a computer system:\n",
        "\n",
        "    -   **Random Access Memory (RAM):** This is the computer's \"working memory\". RAM temporarily stores data the CPU uses, helping the computer process its tasks faster. When you run a program or command, the CPU retrieves the necessary data from RAM to process it. However, data in RAM is volatile, meaning it is lost when the computer is turned off.\n",
        "\n",
        "    -   **Read-Only Memory (ROM):** This type of memory is non-volatile, meaning the information remains even when the computer is turned off. ROM often contains firmware that helps start up the computer and perform diagnostics on the system when it's powered on.\n",
        "\n",
        "3.  Storage: Unlike memory, storage is meant for long-term retention of data, even when the computer is switched off. It comes in two main types:\n",
        "\n",
        "    -   **Hard Disk Drives (HDDs):** These use physical platters and a moving read/write head to store and retrieve digital information.\n",
        "\n",
        "    -   **Solid State Drives (SSDs):** These are faster and more durable than HDDs, as they use flash memory and have no moving parts.\n",
        "\n",
        "4.  **Motherboard:** The motherboard is the main circuit board of the computer and is where many of the primary components are connected. It hosts the CPU, memory, connectors for the hard drive and optical drives, expansion cards, and also includes controllers for devices like the monitor, keyboard, and mouse.\n",
        "\n",
        "5.  **Input Devices:** These are how users interact with the computer. They send information to the computer and allow it to perform tasks. Examples include the keyboard, mouse, touchscreen, scanner, and microphone.\n",
        "\n",
        "6.  **Output Devices:** These allow the computer to communicate with the user by displaying information in some form. This includes devices like monitors, printers, and speakers.\n",
        "\n",
        "7.  **Power Supply:** This supplies power to the computer by converting electrical energy from the power point into the correct format and voltage for the individual parts of the computer.\n",
        "\n",
        "8.  **Networking:** This allows computers to exchange data. In modern computers, this is often done via a network interface card (NIC) that allows the computer to connect to other computers via a local network or the internet, either through a wired Ethernet connection or a wireless Wi-Fi or Bluetooth connection.\n",
        "\n",
        "9.  **Operating System (OS):** While not a physical component, the OS is critical for the functioning of a computer. It's the system software that manages computer hardware, software resources, and provides various services for computer programs. Examples include Microsoft Windows, macOS, Linux, and Unix.\n",
        "\n",
        "10. **Graphics Processing Unit (GPU):** While technically this could be considered part of the CPU, in modern computers, a GPU often takes the form of a dedicated chip specifically designed for performing operations relevant to displaying and manipulating an image on the screen. GPUs are particularly important for systems running games or software that require high-definition video rendering.\n",
        "\n",
        "Remember, each of these components plays a crucial role in the functioning of a computer system. The absence or malfunction of any one of these components can prevent a computer from working properly.\n",
        "\n",
        "![Computer System Diagram](https://raw.githubusercontent.com/brendanpshea/intro_cs/main/images/computer_system_diagram.svg)"
      ],
      "metadata": {
        "id": "sV9dkLdtTFh9"
      }
    },
    {
      "cell_type": "markdown",
      "source": [
        "## How Do Computers \"Think\"? CPUs and Fetch-Decode-Execute\n",
        "The central processing unit (CPU), often referred to as the \"brain\" of the computer, is where most calculations take place. It's responsible for executing the instructions of a computer program. The fundamental operation of most CPUs, regardless of the physical form they take, is to execute a sequence of stored instructions called a program. This process is completed using a cycle known as the fetch-decode-execute cycle, and it's the cornerstone of how CPUs work.\n",
        "\n",
        "Let's break this down into simpler terms:\n",
        "\n",
        "1.  **Fetch:** This is the first step of the cycle. Here, the CPU fetches the instruction from its memory. Every instruction is stored in a specific numbered location in memory, and the CPU keeps track of these numbers using a special counter called the Program Counter (PC). The PC gives the CPU the address of the next instruction to fetch. After fetching an instruction, the PC automatically increments to point to the next instruction.\n",
        "\n",
        "2.  **Decode:** After fetching the instruction, the CPU needs to understand what that instruction means. That's what happens in this step. The instruction is broken down or 'decoded' into a command that the CPU can understand. The Control Unit (CU) is responsible for this. The CU is essentially the \"manager\" of the CPU, coordinating and controlling the actions of the other hardware components.\n",
        "\n",
        "3.  **Execute:** Once the CPU understands the instruction, it's time to carry it out. This might mean performing some sort of computation, like addition or subtraction, or it might involve a different sort of operation, like moving data from one memory location to another. The Arithmetic Logic Unit (ALU) comes into play here. The ALU is where the CPU performs operations like addition, subtraction, multiplication, and division. It can also perform logical operations, such as AND, OR and NOT operations.\n",
        "\n",
        "The **Control Unit (CU)** and the **Arithmetic Logic Unit (ALU)** are two vital parts of the CPU. The CU coordinates the sequence of operations, including input, output, processing, and storage, while the ALU performs mathematical, logical, and decision operations.\n",
        "\n",
        "For example, let's say we have an instruction in memory that tells the CPU to add two numbers together. The CPU fetches this instruction from memory, which means it reads the instruction from the location given by the PC.   Next, it decodes the instruction, breaking it down to understand that it's being asked to perform an addition operation. It also identifies the numbers that are to be added. Finally, the CPU executes the instruction, adding the numbers together in the ALU. The result is then stored in a register or memory for later use.\n",
        "\n",
        "This fetch-decode-execute cycle is the basis of all operations performed by a CPU, whether simple or complex. By fetching, decoding, and executing instructions, the CPU is able to run all the software on a computer, from the operating system to video games and web browsers."
      ],
      "metadata": {
        "id": "AAdkMiqqX41j"
      }
    },
    {
      "cell_type": "markdown",
      "source": [
        "## How do Computers Store Data?\n",
        "At a fundamental level, computers store data in two forms: volatile and non-volatile memory. These terms refer to whether the data is preserved when the power supply to the computer's storage is turned off.  Let's dive deeper into these types of memory, and consider how they're used in your computer.\n",
        "\n",
        "### Volatile Memory - RAM (Random Access Memory):\n",
        "\n",
        "RAM is the place where your computer temporarily stores data that it is currently or frequently working with. It's a high-speed component that temporarily stores all the information a system needs right now and in the near future. RAM is a type of **bolatile memory**, which means that it is temporary storage that only retains data while the computer is powered on.\n",
        "\n",
        "When you start a program, for instance, your computer's CPU fetches the program's instructions from the hard drive and stores them in RAM. From there, it can quickly access and process these instructions. That's because it's much faster to read from and write to RAM than it is to a long-term storage device like a hard drive or solid-state drive.\n",
        "\n",
        "It's worth noting that RAM uses binary data, the system of 1s and 0s we discussed earlier. This binary data is stored in memory cells that have a series of transistors which can be either on or off, representing the two binary states.\n",
        "\n",
        "However, RAM is volatile, which means when the power is turned off, all the information stored in RAM is lost. That's why it's used for temporary storage.\n",
        "\n",
        "### Non-Volatile Memory:\n",
        "\n",
        "Non-volatile memory, on the other hand, retains data even when the computer is powered off. This is where your computer stores data long-term. The data you save to your computer's hard drive or SSD remains there until you choose to delete or overwrite it, even if you turn off your computer. There are a few types of non-volatile memory, but we'll focus on Read-Only Memory (ROM), Hard Disk Drives (HDDs), and Solid-State Drives (SSDs).\n",
        "\n",
        "### ROM (Read-Only Memory):\n",
        "\n",
        "ROM is a type of non-volatile memory used in computers and other electronics. As the name indicates, data stored in ROM may only be read, not written to. It is mostly used for firmware which is rarely or never expected to change, like the BIOS in your computer that boots up and initializes everything when you start the system. It's important to note that the information in ROM is stored permanently.\n",
        "\n",
        "### Hard Disk Drives (HDDs):\n",
        "\n",
        "HDDs are a type of non-volatile storage that store and retrieve digital information using rapidly rotating disks (platters) coated with magnetic material. They have been the dominant type of storage for computers for many years. They are great for storing large amounts of data cheaply.   When data is written to the hard drive, it is encoded as binary data (just like in RAM) and stored magnetically on the rotating platters. When it's needed again, the hard drive reads this binary data and sends it back to the CPU or other parts of the computer.\n",
        "\n",
        "### Solid-State Drives (SSDs):\n",
        "\n",
        "Unlike HDDs, SSDs have no moving parts, which gives them a significant advantage in access speed. They store data in a persistent state with flash memory, a type of non-volatile storage that can be electrically erased and reprogrammed. This makes SSDs faster, quieter, and more robust than HDDs. Data in an SSD is stored in a grid of electrical cells that are grouped into pages, with pages together forming blocks. To write data, the SSD changes the charge of the relevant cells to match the binary code of the data."
      ],
      "metadata": {
        "id": "P-dhz5czZSMc"
      }
    },
    {
      "cell_type": "markdown",
      "source": [
        "## How Can Computers Communicate? The Mysteries of Input and Output\n",
        "Input and output (often referred to as I/O) are fundamental concepts in computer science. They refer to how a computer receives information (input) and then transmits it (output).  Input could come from a variety of sources, like a keyboard, mouse, microphone, or a different computer, while output could be sent to a screen, speaker, printer, or elsewhere.\n",
        "\n",
        "Let's start with an example of **input.** When you press a key on your keyboard, you're providing input to your computer. The keyboard sends a signal to the computer that a key was pressed and identifies which one. This data is then processed by the computer, maybe resulting in a character appearing on your screen, which is an output.\n",
        "\n",
        "For **output**, consider what happens when you click \"print\" in a word processor. The program sends the text data and formatting instructions (the input) to the computer's printer driver. The printer driver then translates this into a language that the printer can understand (the output), and sends this data to the printer. The printer prints your document based on this data, which is another form of output.\n",
        "\n",
        "### Interrupts and Polling\n",
        "\n",
        "Input and output can occur in several ways, two of the most common are through interrupts and polling.\n",
        "\n",
        "**Interrupts** are signals sent to the CPU that an event occurred that needs immediate attention. When the CPU receives an interrupt, it suspends its current operations, saves its state, and begins executing the interrupt handler, a routine that is specifically set up to deal with the particular interrupt. Once the interrupt handler finishes, the CPU resumes its previous tasks.\n",
        "\n",
        "For instance, when you move your mouse, the mouse sends an interrupt signal to the CPU. The CPU then interrupts what it was doing to execute the interrupt handler for the mouse input, which might result in moving the cursor on your screen. This happens so quickly that it appears seamless to the user.\n",
        "\n",
        "**Polling** is another method for handling input and output. Instead of waiting for an interrupt signal, the CPU (or another device) continuously checks (or polls) the status of a device to see if it needs servicing - i.e., if there's any new data or if it's ready to receive data.\n",
        "\n",
        "For example, a program might continuously poll a network port to see if there's any new data to read. Once it detects new data, it reads it and processes it. Unlike interrupts, polling is often used when the timing of the input or output operation is not as critical, as polling can use more CPU resources since it's continuously checking the status of a device.\n"
      ],
      "metadata": {
        "id": "JQwY5aRLamCZ"
      }
    },
    {
      "cell_type": "markdown",
      "source": [
        "## What is Operating System?\n",
        "An operating system (OS) is a crucial component of a computer system. It's a large piece of software that manages many aspects of the computer's operations, acting as a bridge between the user and the computer hardware. In essence, the operating system makes it possible for you to interact with your computer without needing to understand all the technical details about how the hardware works.\n",
        "\n",
        "Think of an operating system like a car's dashboard. You don't need to know the intricacies of how your car's engine works in order to drive - you just need to know how to operate the steering wheel, pedals, and other controls. Similarly, you don't need to understand the details of how your computer hardware works; instead, you interact with the operating system, which takes care of the rest.\n",
        "\n",
        "Now, let's break down some of the key functions of an operating system:\n",
        "\n",
        "1. **Process Management:**  The operating system is responsible for deciding when and how long a program (which we call a process while it's running) should be able to use the CPU. It's like a traffic director for your computer, making sure each process gets its fair share of CPU time and ensuring that all processes work together harmoniously.\n",
        "\n",
        "2. **Memory Management:** Operating systems handle the memory available in your computer. They keep track of what data is stored in memory, where it's stored, and how much space is available for future use. When a process needs to use memory, the operating system allocates a certain amount of it; when the process is finished, the OS frees that memory for other uses.\n",
        "\n",
        "3. **Device Management:** Operating systems also help manage devices connected to your computer, like keyboards, mice, printers, and disk drives. The operating system communicates with these devices through programs called device drivers, which translate the operating system's instructions into a form the device can understand.\n",
        "\n",
        "4. **File System Management:** The operating system keeps track of files and directories on your computer. It controls who can access files, how they can be accessed (for example, read-only or write access), and where they're stored on the computer's physical storage devices.\n",
        "\n",
        "5. **Security:**  Operating systems play a vital role in computer security. They control who can access the computer, and they can restrict what users can do on the system. They also protect data by controlling access to files and directories and by ensuring that unauthorized users cannot access the system.\n",
        "\n",
        "Now, let's look at some examples of operating systems:\n",
        "\n",
        "-   **Windows:** Developed by Microsoft, Windows is one of the most widely used operating systems. It has a graphical user interface (GUI) that makes it user-friendly and easy to navigate.\n",
        "\n",
        "-   **macOS:** This is the operating system for Apple's Mac computers. It's known for its distinctive, intuitive interface and is tightly integrated with other Apple platforms, like iOS for iPhones.\n",
        "\n",
        "-   **Linux:** Unlike Windows and macOS, Linux is open-source, meaning its source code is freely available for anyone to view, modify, and distribute. It's known for its efficiency and flexibility. Linux distributions, such as Ubuntu or Fedora, often come with a bundled package of tools and applications.\n",
        "\n",
        "-   **Android** and **iOS:** These are operating systems for mobile devices. Android is used on many brands of smartphones and tablets, while iOS is used on iPhones and iPads.\n",
        "\n",
        "Each of these operating systems performs the same fundamental functions, but they do so in different ways and with different user interfaces"
      ],
      "metadata": {
        "id": "41Qj0Ng3qzkc"
      }
    },
    {
      "cell_type": "markdown",
      "source": [
        "## What Computer am I Running?\n",
        "These lecture notes are written as a **Jupyter** notebook, which combines **Python** and **Linux** commands with text cells. You are likely running this on **Google Colab** which is a cloud-based environment provided by Google. Here, we're going to write a simple Python function to find out more about the \"virtual machine\" that Google has provided us with.\n"
      ],
      "metadata": {
        "id": "WEdU9gUaroSW"
      }
    },
    {
      "cell_type": "code",
      "source": [
        "# CPU Information\n",
        "print(\"\\nGetting CPU Information...\")\n",
        "!echo -e \"CPU Model:\\n$(lscpu | grep 'Model name')\"\n",
        "!echo -e \"\\nNumber of CPUs:\\n$(lscpu | grep 'CPU(s):')\"\n",
        "\n",
        "# Memory Information\n",
        "print(\"\\n\\nGetting Memory Information...\")\n",
        "!free -h\n",
        "\n",
        "# Disk Information\n",
        "print(\"\\n\\nGetting Disk Information...\")\n",
        "!df -h --output=source,fstype,size,used,avail\n",
        "!echo -e \"\\nStorage Type:\\n$(lsblk -d -o name,rota)\"\n",
        "\n",
        "# Linux version\n",
        "print(\"\\n\\nGetting Linux Version Information...\")\n",
        "!uname -a\n",
        "!lsb_release -a\n",
        "\n"
      ],
      "metadata": {
        "colab": {
          "base_uri": "https://localhost:8080/"
        },
        "id": "gGkKmzs5rnv8",
        "outputId": "c47e9454-9baf-4159-d1d7-676e0664e717"
      },
      "execution_count": null,
      "outputs": [
        {
          "output_type": "stream",
          "name": "stdout",
          "text": [
            "\n",
            "Getting CPU Information...\n",
            "CPU Model:\n",
            "Model name:                      Intel(R) Xeon(R) CPU @ 2.20GHz\n",
            "\n",
            "Number of CPUs:\n",
            "CPU(s):                          2\n",
            "NUMA node0 CPU(s):               0,1\n",
            "\n",
            "\n",
            "Getting Memory Information...\n",
            "              total        used        free      shared  buff/cache   available\n",
            "Mem:           12Gi       641Mi       8.8Gi       1.0Mi       3.3Gi        11Gi\n",
            "Swap:            0B          0B          0B\n",
            "\n",
            "\n",
            "Getting Disk Information...\n",
            "Filesystem     Type     Size  Used Avail\n",
            "overlay        overlay  108G   24G   85G\n",
            "tmpfs          tmpfs     64M     0   64M\n",
            "shm            tmpfs    5.8G     0  5.8G\n",
            "/dev/root      ext2     2.0G 1005M  952M\n",
            "tmpfs          tmpfs    6.4G  368K  6.4G\n",
            "/dev/sda1      ext4      68G   40G   29G\n",
            "tmpfs          tmpfs    6.4G     0  6.4G\n",
            "tmpfs          tmpfs    6.4G     0  6.4G\n",
            "tmpfs          tmpfs    6.4G     0  6.4G\n",
            "\n",
            "Storage Type:\n",
            "NAME  ROTA\n",
            "loop0    0\n",
            "sda      0\n",
            "\n",
            "\n",
            "Getting Linux Version Information...\n",
            "Linux 196509e210cf 5.15.107+ #1 SMP Sat Apr 29 09:15:28 UTC 2023 x86_64 x86_64 x86_64 GNU/Linux\n",
            "No LSB modules are available.\n",
            "Distributor ID:\tUbuntu\n",
            "Description:\tUbuntu 20.04.5 LTS\n",
            "Release:\t20.04\n",
            "Codename:\tfocal\n"
          ]
        }
      ]
    },
    {
      "cell_type": "markdown",
      "source": [
        "## How a Computer Works: Three Case Studies\n",
        "To get a more concrete sense of how a computer \"works,\" we're going to take a closer look at three very different types of computers."
      ],
      "metadata": {
        "id": "tlq5kOhL5oK1"
      }
    },
    {
      "cell_type": "markdown",
      "source": [
        "### Case 1: Playing DuoLingo on a Smartphone\n",
        "First, let's consider a user who wants to play DuoLingo (a language learning applicaiton) on their smartphone.\n",
        "\n",
        "1.  Start-Up: When you first turn on your smartphone, the processor (CPU) executes the startup routine stored in the Read-Only Memory (ROM). The operating system, such as Android or iOS, is loaded into the Random Access Memory (RAM) from the internal storage (SSD or flash memory).\n",
        "\n",
        "2.  App Launch: When you tap the Duolingo icon on your screen, the CPU receives an interrupt signal from the touch screen controller. This interrupt is a prompt for the CPU to stop its current process and respond to this new task. The CPU fetches the binary code of the Duolingo app from the internal storage into RAM.\n",
        "\n",
        "3.  CPU and RAM Interaction: As you interact with Duolingo, the CPU fetches, decodes, and executes instructions stored in RAM. These instructions might include processing your input, loading new data, and generating the app's output.\n",
        "\n",
        "4.  Input Processing: Let's say you're doing a French lesson and you tap on an answer option. The capacitive touch screen senses this touch and sends an electronic signal to the CPU via an I/O controller. The CPU interrupts its current task, fetches the data associated with your touch (the specific location on the screen you tapped), and processes it.\n",
        "\n",
        "5.  App Processing: Once the CPU knows which answer you've selected, it processes this information in conjunction with the Duolingo app's instructions in RAM. For instance, it might compare your selected answer to the correct one, decide if it's right or wrong, and then generate the appropriate response.\n",
        "\n",
        "6.  Graphics and Sound Output: The CPU sends signals to output devices to create a response to your input. For example, it might send a signal to the graphics processing unit (GPU) to display a checkmark (indicating a correct answer) or a cross (for an incorrect answer) on the screen. It could also send a signal to the sound controller to play a sound corresponding to a correct or incorrect answer.\n",
        "\n",
        "7.  Network Communication: If you're connected to the internet, your progress will be uploaded to Duolingo's servers. The CPU sends this data to the network card (an I/O device), which converts it into a format suitable for transmission over a network and sends it to Duolingo's servers.\n",
        "\n",
        "8.  App Closure and Data Storage: When you close the Duolingo app, the CPU oversees the process of saving your progress to the phone's internal storage. This allows you to return to your lesson where you left off the next time you open the app.\n",
        "\n",
        "So, using an app like Duolingo on a smartphone involves numerous components of the device, including the CPU, RAM, internal storage, I/O controllers and devices (like the touch screen and network card), and output devices (like the screen and speakers). Each of these components plays a critical role in ensuring that you can interact with the app smoothly and effectively."
      ],
      "metadata": {
        "id": "Jf6ypmGr53xV"
      }
    },
    {
      "cell_type": "markdown",
      "source": [
        "### Case 2: Playing Mario Kart on the Switch\n",
        "Now, let's see how the different components of a Nintendo Switch work together when playing a game like Mario Kart:\n",
        "\n",
        "1.  Console Boot-Up: When you power on your Nintendo Switch, the Central Processing Unit (CPU), or the \"brain\" of the Switch, fetches the startup instructions from the internal storage (flash memory) and executes them. This process loads the operating system into the Random Access Memory (RAM), bringing the system to life.\n",
        "\n",
        "2.  Game Launch: When you select Mario Kart from the menu, the CPU fetches the game data from the cartridge or the internal/external storage (if digitally downloaded) and loads it into RAM.\n",
        "\n",
        "3.  Input Processing: As you press buttons or tilt the Joy-Con controllers, their built-in sensors detect these actions and generate electronic signals. These signals are sent to the CPU, which interrupts its current task to process this new data. For example, if you press the \"A\" button to accelerate your kart, the Joy-Con sends a specific signal to the CPU. The CPU then interprets this signal based on the context provided by the game code, understanding it as a command to increase your kart's speed.\n",
        "\n",
        "4.  Game Processing: The CPU continuously fetches, decodes, and executes instructions from the game code stored in RAM. It manages all aspects of the game, including physics, AI of non-player characters, and game rules. For instance, if you collect a power-up, the CPU processes this event and determines the new abilities of your kart.\n",
        "\n",
        "5.  Graphics and Sound: The CPU works closely with the Graphics Processing Unit (GPU) to render the game world in real time. It calculates what should be displayed based on the game state and your actions, and the GPU translates these calculations into visual output on the screen. For sound, the CPU processes audio instructions (like the sounds of karts, power-ups, and background music) and sends them to the audio hardware.\n",
        "\n",
        "6.  Networking: If you're playing online, the CPU communicates with the Switch's networking hardware to send and receive data. For example, it sends data about your kart's position and actions to the game server, and receives data about other players.\n",
        "\n",
        "7.  Data Storage: If you finish a race or achieve a new high score, the CPU will save this data to the internal storage. This allows your progress to be retained even when the console is turned off.\n",
        "\n",
        "Just as with DuoLingo, playing a game like Mario Kart on a Nintendo Switch involves the integrated work of many different components. The CPU, as the control center, is especially crucial, as it manages both the input from the player and the output of the game, as well as communication with game servers when playing online."
      ],
      "metadata": {
        "id": "iwYhT1EE6p91"
      }
    },
    {
      "cell_type": "markdown",
      "source": [
        "### Case 3: Driving a Tesla\n",
        "Finally, let's discuss how the various components of a Tesla work together when you drive the car:\n",
        "\n",
        "1.  Start-Up: When you approach your Tesla with the key fob or your smartphone (with the Tesla app installed), the car's sensors detect the key's proximity and automatically unlock the vehicle. The car's onboard computer, often referred to as the \"Vehicle Control Unit\" (VCU), boots up, loading the car's operating system into memory, much like a computer.\n",
        "\n",
        "2.  Input Processing: As you interact with the car, your inputs are processed by the VCU. For example, when you press the accelerator, a sensor in the pedal converts the mechanical action into an electrical signal, which is sent to the VCU. The VCU interprets this signal as a command to increase the car's speed.\n",
        "\n",
        "3.  Motor and Battery Management: The VCU sends instructions to the motor controller, which regulates the electric current from the battery to the motor, controlling the torque produced by the motor and thus the car's speed. The VCU also continuously monitors the battery's state to ensure efficient energy use.\n",
        "\n",
        "4.  Display and Sound: The VCU sends data to the car's display to provide real-time feedback about the vehicle, such as speed, battery level, and navigation instructions. The VCU also controls the car's sound system, playing music, navigation voice prompts, or system alerts as necessary.\n",
        "\n",
        "5.  Sensor Data Processing: Modern Teslas are equipped with numerous sensors, including cameras, radar, ultrasonic sensors, and accelerometers. These sensors constantly send data to the VCU. For example, if you're using Autopilot, the VCU uses this sensor data to create a detailed model of the car's surroundings and make driving decisions.\n",
        "\n",
        "6.  Networking: Teslas are connected vehicles, regularly communicating with Tesla's servers for software updates, sending performance data, and receiving information like traffic conditions or supercharger availability. The VCU manages these data transmissions.\n",
        "\n",
        "7.  Climate Control: The VCU also controls the car's climate system, adjusting the heating, cooling, and ventilation as per the user's settings.\n",
        "\n",
        "8.  Data Storage: The VCU stores various data, like your personal settings, trip information, and event data, in the car's internal storage. This data is retained even when the car is turned off and can be used to resume settings when the car is turned on again.\n",
        "\n",
        "Similar to the first two cases, driving a Tesla involves a complex interplay of various systems managed by the VCU, akin to the CPU in a computer. From processing user inputs to managing the electric motor and battery, from processing sensor data for automated driving to controlling the car's display and sound system, the VCU plays a critical role in delivering a smooth and safe driving experience."
      ],
      "metadata": {
        "id": "O44GcvxQ7SJf"
      }
    },
    {
      "cell_type": "markdown",
      "source": [
        "## Questions\n",
        "Please answer the following questions in 2-3 sentences each.\n",
        "\n",
        "1.  When you run a program on your computer, what is happening at the CPU level? Explain the fetch-decode-execute cycle.\n",
        "\n",
        "2.  Why is your computer's hard drive or SSD larger than its RAM? How do these two types of storage work together to run a program?\n",
        "\n",
        "3.  How do input/output devices communicate with the CPU? Explain the concepts of interrupts and polling in your own words.\n",
        "\n",
        "4.  What role does an operating system play on a computer? How does it interact with the hardware and the applications? What kind(s) of operating systems do you regularly use?\n",
        "\n",
        "5. What kind of computer hardware and software are you currently using (for example: CPU, RAM, SSD, Operating System)? How did you go about finding this out?\n",
        "\n",
        "\n",
        "\n"
      ],
      "metadata": {
        "id": "7oHiQ2wi8MxM"
      }
    },
    {
      "cell_type": "markdown",
      "source": [
        "## Answers\n",
        "You put your answers here. In order to SAVE your work,  you will need to \"save\" your own copy of the notebook (go to \"File: Save a Copy in Drive\").\n",
        "\n",
        "1.\n",
        "\n",
        "2.\n",
        "\n",
        "3.\n",
        "\n",
        "4.\n",
        "\n",
        "5."
      ],
      "metadata": {
        "id": "TrBEuuaz8ZsE"
      }
    },
    {
      "cell_type": "markdown",
      "source": [
        "## Review with Quizlet\n",
        "\n",
        "I've created a \"Quizlet\" deck to go along with this chapter (based on the glossary below). I encourage you to work your way through it until you \"master\" this activity. To launch the deck, you simply \"run\" the cell below."
      ],
      "metadata": {
        "id": "bFmhR8w63Yfw"
      }
    },
    {
      "cell_type": "code",
      "source": [
        "%%html\n",
        "<iframe src=\"https://quizlet.com/817056246/learn/embed?i=psvlh&x=1jj1\" height=\"600\" width=\"100%\" style=\"border:0\"></iframe>"
      ],
      "metadata": {
        "id": "Pd4gz-7e37iI",
        "outputId": "5ce34621-a8a0-49d2-c0f8-4698c344c2f5",
        "colab": {
          "base_uri": "https://localhost:8080/",
          "height": 621
        }
      },
      "execution_count": null,
      "outputs": [
        {
          "output_type": "display_data",
          "data": {
            "text/plain": [
              "<IPython.core.display.HTML object>"
            ],
            "text/html": [
              "<iframe src=\"https://quizlet.com/817056246/learn/embed?i=psvlh&x=1jj1\" height=\"600\" width=\"100%\" style=\"border:0\"></iframe>\n"
            ]
          },
          "metadata": {}
        }
      ]
    },
    {
      "cell_type": "markdown",
      "source": [
        "## Glossary\n",
        "| Term | Definition |\n",
        "| --- | --- |\n",
        "| Computer | A device capable of performing calculations and tasks according to a set of instructions, typically including hardware and software components. |\n",
        "| Computer Science | A field of study that encompasses the theory, design, development, and application of information systems and computing technologies. |\n",
        "| Binary | A base-2 number system used by digital devices, consisting of only two digits: 0 and 1. |\n",
        "| Transistors | Semiconductor devices used to amplify or switch electronic signals and electrical power, acting as the basic building blocks of electronic devices. |\n",
        "| Binary-to-Decimal (Algorithm) | Add together each bit multiplied by two raised to the power of its position, starting from 0 on the right. |\n",
        "| Decimal-to-Binary (Algorithm) | Divide the decimal number by 2, recording the remainder. Repeat using the quotient until it is 0. The binary result is the recorded remainders, in reverse order. |\n",
        "| Octal | A base-8 number system, using digits from 0 to 7. |\n",
        "| Hexadecimal | A base-16 number system, utilizing digits from 0 to 9 and letters from A to F, often used in computing for compact representation of binary numbers. |\n",
        "| Central Processing Unit (CPU) | The primary component of a computer that performs most of the processing, divided into the Control Unit and the Arithmetic Logic Unit. |\n",
        "| Control Unit | The part of the CPU that directs operations, interpreting and executing instructions from memory. |\n",
        "| Arithmetic Logic Unit (ALU) | A component of the CPU responsible for performing arithmetic and logical operations. |\n",
        "| Fetch | The initial step in the CPU operation cycle where an instruction is retrieved from memory. |\n",
        "| Decode | The step in the CPU operation cycle where the fetched instruction is translated into a series of actions. |\n",
        "| Execute | The final step in the CPU operation cycle where the actions resulting from the decoded instruction are carried out. |\n",
        "| Random Access Memory (RAM) | A type of computer memory that can be read from and written to, often used for primary storage in computers due to its high speed. |\n",
        "| Read Only Memory (ROM) | Non-volatile memory used in computers and other electronic devices that stores data that is permanently written during manufacturing and cannot be modified thereafter. |\n",
        "| Volatile memory | Memory that requires power to maintain stored information, losing its contents when the power is turned off; includes types such as RAM. |\n",
        "| Non-volatile memory | Storage that retains data even when power is lost, such as SSDs, HDDs, and flash memory. |\n",
        "| Hard Disk Drive (HDD) | A data storage device using magnetic storage to store and retrieve digital information, characterized by rotating rigid platters on a motor-driven spindle. |\n",
        "| Solid State Drive (SSD) | A type of non-volatile storage media that stores data on solid-state flash memory, offering faster read/write speeds compared to HDDs. |\n",
        "| Motherboard | The main circuit board in a computer that interconnects the CPU, memory, storage devices, and input/output devices, serving as the central hub for data transfer. |\n",
        "| Operating System | Software that manages hardware resources, provides services for software applications, and acts as an interface between the user and the hardware. |\n",
        "| Linux | An open-source operating system based on the Unix operating system, known for its stability, efficiency, and extensive customization options. |\n",
        "| Ubuntu | A popular distribution of the Linux operating system, known for its user-friendly interface and strong support community. |\n",
        "| Input | Data or signals received by the computer for processing, or devices that facilitate the transfer of these data or signals, such as a keyboard or mouse. |\n",
        "| Output | The results produced by the computer after data processing, or devices that display or deliver these results, such as monitors or printers. |\n",
        "| Interrupt | A signal to the processor indicating an event needing immediate attention, temporarily stopping the execution of the current process. |\n",
        "| Polling | A method whereby the computer regularly checks the status of an input/output device to see if it's ready for data transfer. |"
      ],
      "metadata": {
        "id": "Jd6uicvxCcKE"
      }
    }
  ]
}